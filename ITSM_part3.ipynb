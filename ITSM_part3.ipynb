{
 "cells": [
  {
   "cell_type": "code",
   "execution_count": 1,
   "metadata": {},
   "outputs": [],
   "source": [
    "import pandas as pd\n",
    "import numpy as np\n",
    "import matplotlib.pyplot as plt\n",
    "import seaborn as sns\n",
    "\n",
    "from sklearn.preprocessing import OrdinalEncoder,LabelEncoder\n",
    "from sklearn.model_selection import train_test_split\n",
    "\n",
    "from sklearn.linear_model import LogisticRegression\n",
    "from sklearn.ensemble import RandomForestClassifier\n",
    "from sklearn.neighbors import KNeighborsClassifier\n",
    "from xgboost import XGBClassifier\n",
    "\n",
    "from sklearn.metrics import accuracy_score,classification_report,confusion_matrix\n",
    "\n",
    "import warnings\n",
    "warnings.filterwarnings('ignore')"
   ]
  },
  {
   "cell_type": "markdown",
   "metadata": {},
   "source": [
    "## Dataset Exploration"
   ]
  },
  {
   "cell_type": "code",
   "execution_count": 2,
   "metadata": {},
   "outputs": [],
   "source": [
    "data = pd.read_csv('itsm.csv')"
   ]
  },
  {
   "cell_type": "code",
   "execution_count": 3,
   "metadata": {},
   "outputs": [
    {
     "data": {
      "text/html": [
       "<div>\n",
       "<style scoped>\n",
       "    .dataframe tbody tr th:only-of-type {\n",
       "        vertical-align: middle;\n",
       "    }\n",
       "\n",
       "    .dataframe tbody tr th {\n",
       "        vertical-align: top;\n",
       "    }\n",
       "\n",
       "    .dataframe thead th {\n",
       "        text-align: right;\n",
       "    }\n",
       "</style>\n",
       "<table border=\"1\" class=\"dataframe\">\n",
       "  <thead>\n",
       "    <tr style=\"text-align: right;\">\n",
       "      <th></th>\n",
       "      <th>CI_Name</th>\n",
       "      <th>CI_Cat</th>\n",
       "      <th>CI_Subcat</th>\n",
       "      <th>WBS</th>\n",
       "      <th>Incident_ID</th>\n",
       "      <th>Status</th>\n",
       "      <th>Impact</th>\n",
       "      <th>Urgency</th>\n",
       "      <th>Priority</th>\n",
       "      <th>number_cnt</th>\n",
       "      <th>...</th>\n",
       "      <th>Reopen_Time</th>\n",
       "      <th>Resolved_Time</th>\n",
       "      <th>Close_Time</th>\n",
       "      <th>Handle_Time_hrs</th>\n",
       "      <th>Closure_Code</th>\n",
       "      <th>No_of_Related_Interactions</th>\n",
       "      <th>Related_Interaction</th>\n",
       "      <th>No_of_Related_Incidents</th>\n",
       "      <th>No_of_Related_Changes</th>\n",
       "      <th>Related_Change</th>\n",
       "    </tr>\n",
       "  </thead>\n",
       "  <tbody>\n",
       "    <tr>\n",
       "      <th>0</th>\n",
       "      <td>SUB000508</td>\n",
       "      <td>subapplication</td>\n",
       "      <td>Web Based Application</td>\n",
       "      <td>WBS000162</td>\n",
       "      <td>IM0000004</td>\n",
       "      <td>Closed</td>\n",
       "      <td>4</td>\n",
       "      <td>4</td>\n",
       "      <td>4.0</td>\n",
       "      <td>0.601292</td>\n",
       "      <td>...</td>\n",
       "      <td>NaN</td>\n",
       "      <td>04-11-2013 13:50</td>\n",
       "      <td>04-11-2013 13:51</td>\n",
       "      <td>3,87,16,91,111</td>\n",
       "      <td>Other</td>\n",
       "      <td>1.0</td>\n",
       "      <td>SD0000007</td>\n",
       "      <td>2.0</td>\n",
       "      <td>NaN</td>\n",
       "      <td>NaN</td>\n",
       "    </tr>\n",
       "    <tr>\n",
       "      <th>1</th>\n",
       "      <td>WBA000124</td>\n",
       "      <td>application</td>\n",
       "      <td>Web Based Application</td>\n",
       "      <td>WBS000088</td>\n",
       "      <td>IM0000005</td>\n",
       "      <td>Closed</td>\n",
       "      <td>3</td>\n",
       "      <td>3</td>\n",
       "      <td>3.0</td>\n",
       "      <td>0.415050</td>\n",
       "      <td>...</td>\n",
       "      <td>02-12-2013 12:31</td>\n",
       "      <td>02-12-2013 12:36</td>\n",
       "      <td>02-12-2013 12:36</td>\n",
       "      <td>4,35,47,86,389</td>\n",
       "      <td>Software</td>\n",
       "      <td>1.0</td>\n",
       "      <td>SD0000011</td>\n",
       "      <td>1.0</td>\n",
       "      <td>NaN</td>\n",
       "      <td>NaN</td>\n",
       "    </tr>\n",
       "    <tr>\n",
       "      <th>2</th>\n",
       "      <td>DTA000024</td>\n",
       "      <td>application</td>\n",
       "      <td>Desktop Application</td>\n",
       "      <td>WBS000092</td>\n",
       "      <td>IM0000006</td>\n",
       "      <td>Closed</td>\n",
       "      <td>NS</td>\n",
       "      <td>3</td>\n",
       "      <td>NaN</td>\n",
       "      <td>0.517551</td>\n",
       "      <td>...</td>\n",
       "      <td>NaN</td>\n",
       "      <td>13-01-2014 15:12</td>\n",
       "      <td>13-01-2014 15:13</td>\n",
       "      <td>4,84,31,19,444</td>\n",
       "      <td>No error - works as designed</td>\n",
       "      <td>1.0</td>\n",
       "      <td>SD0000017</td>\n",
       "      <td>NaN</td>\n",
       "      <td>NaN</td>\n",
       "      <td>NaN</td>\n",
       "    </tr>\n",
       "    <tr>\n",
       "      <th>3</th>\n",
       "      <td>WBA000124</td>\n",
       "      <td>application</td>\n",
       "      <td>Web Based Application</td>\n",
       "      <td>WBS000088</td>\n",
       "      <td>IM0000011</td>\n",
       "      <td>Closed</td>\n",
       "      <td>4</td>\n",
       "      <td>4</td>\n",
       "      <td>4.0</td>\n",
       "      <td>0.642927</td>\n",
       "      <td>...</td>\n",
       "      <td>NaN</td>\n",
       "      <td>14-11-2013 09:31</td>\n",
       "      <td>14-11-2013 09:31</td>\n",
       "      <td>4,32,18,33,333</td>\n",
       "      <td>Operator error</td>\n",
       "      <td>1.0</td>\n",
       "      <td>SD0000025</td>\n",
       "      <td>NaN</td>\n",
       "      <td>NaN</td>\n",
       "      <td>NaN</td>\n",
       "    </tr>\n",
       "    <tr>\n",
       "      <th>4</th>\n",
       "      <td>WBA000124</td>\n",
       "      <td>application</td>\n",
       "      <td>Web Based Application</td>\n",
       "      <td>WBS000088</td>\n",
       "      <td>IM0000012</td>\n",
       "      <td>Closed</td>\n",
       "      <td>4</td>\n",
       "      <td>4</td>\n",
       "      <td>4.0</td>\n",
       "      <td>0.345258</td>\n",
       "      <td>...</td>\n",
       "      <td>NaN</td>\n",
       "      <td>08-11-2013 13:55</td>\n",
       "      <td>08-11-2013 13:55</td>\n",
       "      <td>3,38,39,03,333</td>\n",
       "      <td>Other</td>\n",
       "      <td>1.0</td>\n",
       "      <td>SD0000029</td>\n",
       "      <td>NaN</td>\n",
       "      <td>NaN</td>\n",
       "      <td>NaN</td>\n",
       "    </tr>\n",
       "  </tbody>\n",
       "</table>\n",
       "<p>5 rows × 25 columns</p>\n",
       "</div>"
      ],
      "text/plain": [
       "     CI_Name          CI_Cat              CI_Subcat        WBS Incident_ID  \\\n",
       "0  SUB000508  subapplication  Web Based Application  WBS000162   IM0000004   \n",
       "1  WBA000124     application  Web Based Application  WBS000088   IM0000005   \n",
       "2  DTA000024     application    Desktop Application  WBS000092   IM0000006   \n",
       "3  WBA000124     application  Web Based Application  WBS000088   IM0000011   \n",
       "4  WBA000124     application  Web Based Application  WBS000088   IM0000012   \n",
       "\n",
       "   Status Impact Urgency  Priority  number_cnt  ...       Reopen_Time  \\\n",
       "0  Closed      4       4       4.0    0.601292  ...               NaN   \n",
       "1  Closed      3       3       3.0    0.415050  ...  02-12-2013 12:31   \n",
       "2  Closed     NS       3       NaN    0.517551  ...               NaN   \n",
       "3  Closed      4       4       4.0    0.642927  ...               NaN   \n",
       "4  Closed      4       4       4.0    0.345258  ...               NaN   \n",
       "\n",
       "      Resolved_Time        Close_Time  Handle_Time_hrs  \\\n",
       "0  04-11-2013 13:50  04-11-2013 13:51   3,87,16,91,111   \n",
       "1  02-12-2013 12:36  02-12-2013 12:36   4,35,47,86,389   \n",
       "2  13-01-2014 15:12  13-01-2014 15:13   4,84,31,19,444   \n",
       "3  14-11-2013 09:31  14-11-2013 09:31   4,32,18,33,333   \n",
       "4  08-11-2013 13:55  08-11-2013 13:55   3,38,39,03,333   \n",
       "\n",
       "                   Closure_Code No_of_Related_Interactions  \\\n",
       "0                         Other                        1.0   \n",
       "1                      Software                        1.0   \n",
       "2  No error - works as designed                        1.0   \n",
       "3                Operator error                        1.0   \n",
       "4                         Other                        1.0   \n",
       "\n",
       "  Related_Interaction No_of_Related_Incidents No_of_Related_Changes  \\\n",
       "0           SD0000007                     2.0                   NaN   \n",
       "1           SD0000011                     1.0                   NaN   \n",
       "2           SD0000017                     NaN                   NaN   \n",
       "3           SD0000025                     NaN                   NaN   \n",
       "4           SD0000029                     NaN                   NaN   \n",
       "\n",
       "  Related_Change  \n",
       "0            NaN  \n",
       "1            NaN  \n",
       "2            NaN  \n",
       "3            NaN  \n",
       "4            NaN  \n",
       "\n",
       "[5 rows x 25 columns]"
      ]
     },
     "execution_count": 3,
     "metadata": {},
     "output_type": "execute_result"
    }
   ],
   "source": [
    "data.head()"
   ]
  },
  {
   "cell_type": "code",
   "execution_count": 4,
   "metadata": {},
   "outputs": [],
   "source": [
    "data.CI_Cat.fillna('application',inplace=True)\n",
    "data.CI_Subcat.fillna('One View Reporting',inplace=True)"
   ]
  },
  {
   "cell_type": "code",
   "execution_count": 5,
   "metadata": {},
   "outputs": [],
   "source": [
    "data.Urgency.replace('5 - Very Low',5,inplace=True)\n",
    "data.Urgency=data.Urgency.astype(np.int64)"
   ]
  },
  {
   "cell_type": "code",
   "execution_count": 6,
   "metadata": {},
   "outputs": [],
   "source": [
    "data.Priority.fillna(data.Urgency,inplace=True)\n",
    "data.Priority= data.Priority.astype('int32')"
   ]
  },
  {
   "cell_type": "code",
   "execution_count": 7,
   "metadata": {},
   "outputs": [],
   "source": [
    "data.Impact.replace('NS',np.nan,inplace=True)\n",
    "data.Impact.fillna(data.Urgency,inplace=True)\n",
    "data.Impact = data.Impact.astype('int32')"
   ]
  },
  {
   "cell_type": "code",
   "execution_count": 8,
   "metadata": {},
   "outputs": [],
   "source": [
    "new_data=data[['CI_Name','CI_Cat','CI_Subcat','Category','Priority']]\n",
    "\n",
    "new_data.replace({'CI_Cat':{'applicationcomponent':'computer',\n",
    "                           'displaydevice':'hardware',\n",
    "                           'officeelectronics':'hardware',\n",
    "                           'networkcomponents':'hardware',\n",
    "                           'Phone':'hardware',\n",
    "                           'database':'storage',\n",
    "                           }\n",
    "                 },\n",
    "                 inplace=True\n",
    "                )"
   ]
  },
  {
   "cell_type": "code",
   "execution_count": 9,
   "metadata": {},
   "outputs": [
    {
     "data": {
      "text/plain": [
       "array(['subapplication', 'application', 'computer', 'hardware',\n",
       "       'software', 'storage'], dtype=object)"
      ]
     },
     "execution_count": 9,
     "metadata": {},
     "output_type": "execute_result"
    }
   ],
   "source": [
    "new_data.CI_Cat.unique()"
   ]
  },
  {
   "cell_type": "markdown",
   "metadata": {},
   "source": [
    "# 3. Auto Tag tickets with right priority and the right dapartment"
   ]
  },
  {
   "cell_type": "markdown",
   "metadata": {},
   "source": [
    "## Predict the right departments"
   ]
  },
  {
   "cell_type": "markdown",
   "metadata": {},
   "source": [
    "### Getting the data"
   ]
  },
  {
   "cell_type": "code",
   "execution_count": 170,
   "metadata": {},
   "outputs": [],
   "source": [
    "data3 = new_data.copy()\n",
    "data3.drop(['Priority','CI_Name'],axis=1,inplace=True)"
   ]
  },
  {
   "cell_type": "code",
   "execution_count": 171,
   "metadata": {},
   "outputs": [
    {
     "data": {
      "text/html": [
       "<div>\n",
       "<style scoped>\n",
       "    .dataframe tbody tr th:only-of-type {\n",
       "        vertical-align: middle;\n",
       "    }\n",
       "\n",
       "    .dataframe tbody tr th {\n",
       "        vertical-align: top;\n",
       "    }\n",
       "\n",
       "    .dataframe thead th {\n",
       "        text-align: right;\n",
       "    }\n",
       "</style>\n",
       "<table border=\"1\" class=\"dataframe\">\n",
       "  <thead>\n",
       "    <tr style=\"text-align: right;\">\n",
       "      <th></th>\n",
       "      <th>CI_Cat</th>\n",
       "      <th>CI_Subcat</th>\n",
       "      <th>Category</th>\n",
       "    </tr>\n",
       "  </thead>\n",
       "  <tbody>\n",
       "    <tr>\n",
       "      <th>0</th>\n",
       "      <td>subapplication</td>\n",
       "      <td>Web Based Application</td>\n",
       "      <td>incident</td>\n",
       "    </tr>\n",
       "    <tr>\n",
       "      <th>1</th>\n",
       "      <td>application</td>\n",
       "      <td>Web Based Application</td>\n",
       "      <td>incident</td>\n",
       "    </tr>\n",
       "    <tr>\n",
       "      <th>2</th>\n",
       "      <td>application</td>\n",
       "      <td>Desktop Application</td>\n",
       "      <td>request for information</td>\n",
       "    </tr>\n",
       "    <tr>\n",
       "      <th>3</th>\n",
       "      <td>application</td>\n",
       "      <td>Web Based Application</td>\n",
       "      <td>incident</td>\n",
       "    </tr>\n",
       "    <tr>\n",
       "      <th>4</th>\n",
       "      <td>application</td>\n",
       "      <td>Web Based Application</td>\n",
       "      <td>incident</td>\n",
       "    </tr>\n",
       "  </tbody>\n",
       "</table>\n",
       "</div>"
      ],
      "text/plain": [
       "           CI_Cat              CI_Subcat                 Category\n",
       "0  subapplication  Web Based Application                 incident\n",
       "1     application  Web Based Application                 incident\n",
       "2     application    Desktop Application  request for information\n",
       "3     application  Web Based Application                 incident\n",
       "4     application  Web Based Application                 incident"
      ]
     },
     "execution_count": 171,
     "metadata": {},
     "output_type": "execute_result"
    }
   ],
   "source": [
    "data3.head()"
   ]
  },
  {
   "cell_type": "code",
   "execution_count": 165,
   "metadata": {},
   "outputs": [
    {
     "data": {
      "text/plain": [
       "CI_Name      0\n",
       "CI_Cat       0\n",
       "CI_Subcat    0\n",
       "Category     0\n",
       "dtype: int64"
      ]
     },
     "execution_count": 165,
     "metadata": {},
     "output_type": "execute_result"
    }
   ],
   "source": [
    "data3.isnull().sum()"
   ]
  },
  {
   "cell_type": "markdown",
   "metadata": {},
   "source": [
    "## Splitting into X and Y"
   ]
  },
  {
   "cell_type": "code",
   "execution_count": 166,
   "metadata": {},
   "outputs": [],
   "source": [
    "X = data3.drop(['CI_Cat'],axis=1)\n",
    "Y = data3['CI_Cat']"
   ]
  },
  {
   "cell_type": "code",
   "execution_count": 167,
   "metadata": {},
   "outputs": [
    {
     "data": {
      "text/html": [
       "<div>\n",
       "<style scoped>\n",
       "    .dataframe tbody tr th:only-of-type {\n",
       "        vertical-align: middle;\n",
       "    }\n",
       "\n",
       "    .dataframe tbody tr th {\n",
       "        vertical-align: top;\n",
       "    }\n",
       "\n",
       "    .dataframe thead th {\n",
       "        text-align: right;\n",
       "    }\n",
       "</style>\n",
       "<table border=\"1\" class=\"dataframe\">\n",
       "  <thead>\n",
       "    <tr style=\"text-align: right;\">\n",
       "      <th></th>\n",
       "      <th>CI_Name</th>\n",
       "      <th>CI_Subcat</th>\n",
       "      <th>Category</th>\n",
       "    </tr>\n",
       "  </thead>\n",
       "  <tbody>\n",
       "    <tr>\n",
       "      <th>0</th>\n",
       "      <td>SUB000508</td>\n",
       "      <td>Web Based Application</td>\n",
       "      <td>incident</td>\n",
       "    </tr>\n",
       "    <tr>\n",
       "      <th>1</th>\n",
       "      <td>WBA000124</td>\n",
       "      <td>Web Based Application</td>\n",
       "      <td>incident</td>\n",
       "    </tr>\n",
       "    <tr>\n",
       "      <th>2</th>\n",
       "      <td>DTA000024</td>\n",
       "      <td>Desktop Application</td>\n",
       "      <td>request for information</td>\n",
       "    </tr>\n",
       "    <tr>\n",
       "      <th>3</th>\n",
       "      <td>WBA000124</td>\n",
       "      <td>Web Based Application</td>\n",
       "      <td>incident</td>\n",
       "    </tr>\n",
       "    <tr>\n",
       "      <th>4</th>\n",
       "      <td>WBA000124</td>\n",
       "      <td>Web Based Application</td>\n",
       "      <td>incident</td>\n",
       "    </tr>\n",
       "  </tbody>\n",
       "</table>\n",
       "</div>"
      ],
      "text/plain": [
       "     CI_Name              CI_Subcat                 Category\n",
       "0  SUB000508  Web Based Application                 incident\n",
       "1  WBA000124  Web Based Application                 incident\n",
       "2  DTA000024    Desktop Application  request for information\n",
       "3  WBA000124  Web Based Application                 incident\n",
       "4  WBA000124  Web Based Application                 incident"
      ]
     },
     "execution_count": 167,
     "metadata": {},
     "output_type": "execute_result"
    }
   ],
   "source": [
    "X.head()"
   ]
  },
  {
   "cell_type": "code",
   "execution_count": 168,
   "metadata": {},
   "outputs": [
    {
     "data": {
      "text/plain": [
       "0    subapplication\n",
       "1       application\n",
       "2       application\n",
       "3       application\n",
       "4       application\n",
       "Name: CI_Cat, dtype: object"
      ]
     },
     "execution_count": 168,
     "metadata": {},
     "output_type": "execute_result"
    }
   ],
   "source": [
    "Y.head()"
   ]
  },
  {
   "cell_type": "code",
   "execution_count": 169,
   "metadata": {},
   "outputs": [
    {
     "data": {
      "image/png": "[encoded data removed]",
      "text/plain": [
       "<Figure size 432x288 with 1 Axes>"
      ]
     },
     "metadata": {
      "needs_background": "light"
     },
     "output_type": "display_data"
    }
   ],
   "source": [
    "sns.countplot(new_data.CI_Cat)\n",
    "plt.show()"
   ]
  },
  {
   "cell_type": "markdown",
   "metadata": {},
   "source": [
    "### Encoding"
   ]
  },
  {
   "cell_type": "code",
   "execution_count": 142,
   "metadata": {},
   "outputs": [],
   "source": [
    "# Encoding the categorical data\n",
    "\n",
    "ord_enc = OrdinalEncoder()\n",
    "lab_enc =LabelEncoder()\n",
    "\n",
    "cat_col = X.select_dtypes(include=object).columns\n",
    "X[cat_col]=ord_enc.fit_transform(X[cat_col])\n",
    "\n",
    "Y=pd.DataFrame(lab_enc.fit_transform(Y),columns=Y.columns.tolist())\n"
   ]
  },
  {
   "cell_type": "code",
   "execution_count": 143,
   "metadata": {},
   "outputs": [
    {
     "data": {
      "text/html": [
       "<div>\n",
       "<style scoped>\n",
       "    .dataframe tbody tr th:only-of-type {\n",
       "        vertical-align: middle;\n",
       "    }\n",
       "\n",
       "    .dataframe tbody tr th {\n",
       "        vertical-align: top;\n",
       "    }\n",
       "\n",
       "    .dataframe thead th {\n",
       "        text-align: right;\n",
       "    }\n",
       "</style>\n",
       "<table border=\"1\" class=\"dataframe\">\n",
       "  <thead>\n",
       "    <tr style=\"text-align: right;\">\n",
       "      <th></th>\n",
       "      <th>CI_Subcat</th>\n",
       "      <th>Category</th>\n",
       "    </tr>\n",
       "  </thead>\n",
       "  <tbody>\n",
       "    <tr>\n",
       "      <th>0</th>\n",
       "      <td>58.0</td>\n",
       "      <td>1.0</td>\n",
       "    </tr>\n",
       "    <tr>\n",
       "      <th>1</th>\n",
       "      <td>58.0</td>\n",
       "      <td>1.0</td>\n",
       "    </tr>\n",
       "    <tr>\n",
       "      <th>2</th>\n",
       "      <td>10.0</td>\n",
       "      <td>3.0</td>\n",
       "    </tr>\n",
       "    <tr>\n",
       "      <th>3</th>\n",
       "      <td>58.0</td>\n",
       "      <td>1.0</td>\n",
       "    </tr>\n",
       "    <tr>\n",
       "      <th>4</th>\n",
       "      <td>58.0</td>\n",
       "      <td>1.0</td>\n",
       "    </tr>\n",
       "  </tbody>\n",
       "</table>\n",
       "</div>"
      ],
      "text/plain": [
       "   CI_Subcat  Category\n",
       "0       58.0       1.0\n",
       "1       58.0       1.0\n",
       "2       10.0       3.0\n",
       "3       58.0       1.0\n",
       "4       58.0       1.0"
      ]
     },
     "execution_count": 143,
     "metadata": {},
     "output_type": "execute_result"
    }
   ],
   "source": [
    "X.head()"
   ]
  },
  {
   "cell_type": "code",
   "execution_count": 144,
   "metadata": {},
   "outputs": [
    {
     "data": {
      "text/html": [
       "<div>\n",
       "<style scoped>\n",
       "    .dataframe tbody tr th:only-of-type {\n",
       "        vertical-align: middle;\n",
       "    }\n",
       "\n",
       "    .dataframe tbody tr th {\n",
       "        vertical-align: top;\n",
       "    }\n",
       "\n",
       "    .dataframe thead th {\n",
       "        text-align: right;\n",
       "    }\n",
       "</style>\n",
       "<table border=\"1\" class=\"dataframe\">\n",
       "  <thead>\n",
       "    <tr style=\"text-align: right;\">\n",
       "      <th></th>\n",
       "      <th>CI_Cat</th>\n",
       "    </tr>\n",
       "  </thead>\n",
       "  <tbody>\n",
       "    <tr>\n",
       "      <th>0</th>\n",
       "      <td>5</td>\n",
       "    </tr>\n",
       "    <tr>\n",
       "      <th>1</th>\n",
       "      <td>0</td>\n",
       "    </tr>\n",
       "    <tr>\n",
       "      <th>2</th>\n",
       "      <td>0</td>\n",
       "    </tr>\n",
       "    <tr>\n",
       "      <th>3</th>\n",
       "      <td>0</td>\n",
       "    </tr>\n",
       "    <tr>\n",
       "      <th>4</th>\n",
       "      <td>0</td>\n",
       "    </tr>\n",
       "    <tr>\n",
       "      <th>...</th>\n",
       "      <td>...</td>\n",
       "    </tr>\n",
       "    <tr>\n",
       "      <th>46601</th>\n",
       "      <td>0</td>\n",
       "    </tr>\n",
       "    <tr>\n",
       "      <th>46602</th>\n",
       "      <td>0</td>\n",
       "    </tr>\n",
       "    <tr>\n",
       "      <th>46603</th>\n",
       "      <td>1</td>\n",
       "    </tr>\n",
       "    <tr>\n",
       "      <th>46604</th>\n",
       "      <td>0</td>\n",
       "    </tr>\n",
       "    <tr>\n",
       "      <th>46605</th>\n",
       "      <td>2</td>\n",
       "    </tr>\n",
       "  </tbody>\n",
       "</table>\n",
       "<p>46606 rows × 1 columns</p>\n",
       "</div>"
      ],
      "text/plain": [
       "       CI_Cat\n",
       "0           5\n",
       "1           0\n",
       "2           0\n",
       "3           0\n",
       "4           0\n",
       "...       ...\n",
       "46601       0\n",
       "46602       0\n",
       "46603       1\n",
       "46604       0\n",
       "46605       2\n",
       "\n",
       "[46606 rows x 1 columns]"
      ]
     },
     "execution_count": 144,
     "metadata": {},
     "output_type": "execute_result"
    }
   ],
   "source": [
    "Y"
   ]
  },
  {
   "cell_type": "markdown",
   "metadata": {},
   "source": [
    "### EDA"
   ]
  },
  {
   "cell_type": "code",
   "execution_count": 145,
   "metadata": {},
   "outputs": [
    {
     "data": {
      "image/png": "[encoded data removed]",
      "text/plain": [
       "<Figure size 432x288 with 2 Axes>"
      ]
     },
     "metadata": {
      "needs_background": "light"
     },
     "output_type": "display_data"
    }
   ],
   "source": [
    "D = X.join(Y)\n",
    "sns.heatmap(D.corr(),annot=True)\n",
    "plt.show()"
   ]
  },
  {
   "cell_type": "code",
   "execution_count": 146,
   "metadata": {},
   "outputs": [
    {
     "data": {
      "image/png": "[encoded data removed]",
      "text/plain": [
       "<Figure size 432x288 with 1 Axes>"
      ]
     },
     "metadata": {
      "needs_background": "light"
     },
     "output_type": "display_data"
    }
   ],
   "source": [
    "X.corrwith(Y.CI_Cat).plot(kind='bar',grid=True)\n",
    "plt.show()"
   ]
  },
  {
   "cell_type": "markdown",
   "metadata": {},
   "source": [
    "### Train-Test-Split"
   ]
  },
  {
   "cell_type": "markdown",
   "metadata": {},
   "source": [
    "# prepare the data"
   ]
  },
  {
   "cell_type": "code",
   "execution_count": 147,
   "metadata": {},
   "outputs": [
    {
     "data": {
      "text/plain": [
       "((37284, 2), (9322, 2))"
      ]
     },
     "execution_count": 147,
     "metadata": {},
     "output_type": "execute_result"
    }
   ],
   "source": [
    "X_train,X_test,Y_train,Y_test = train_test_split(X,Y,test_size=0.20,random_state=100)\n",
    "\n",
    "X_train.shape,X_test.shape"
   ]
  },
  {
   "cell_type": "code",
   "execution_count": 148,
   "metadata": {},
   "outputs": [
    {
     "data": {
      "image/png": "[encoded data removed]",
      "text/plain": [
       "<Figure size 432x288 with 1 Axes>"
      ]
     },
     "metadata": {
      "needs_background": "light"
     },
     "output_type": "display_data"
    }
   ],
   "source": [
    "sns.countplot(Y_train.CI_Cat)\n",
    "plt.show()"
   ]
  },
  {
   "cell_type": "code",
   "execution_count": 149,
   "metadata": {},
   "outputs": [
    {
     "data": {
      "text/plain": [
       "CI_Cat\n",
       "0         26372\n",
       "5          6238\n",
       "1          2945\n",
       "2           735\n",
       "4           730\n",
       "3           264\n",
       "dtype: int64"
      ]
     },
     "execution_count": 149,
     "metadata": {},
     "output_type": "execute_result"
    }
   ],
   "source": [
    "Y_train.value_counts()"
   ]
  },
  {
   "cell_type": "markdown",
   "metadata": {},
   "source": [
    "### Applying SMOTE"
   ]
  },
  {
   "cell_type": "code",
   "execution_count": 150,
   "metadata": {},
   "outputs": [],
   "source": [
    "from imblearn.over_sampling import SMOTE"
   ]
  },
  {
   "cell_type": "code",
   "execution_count": 151,
   "metadata": {},
   "outputs": [],
   "source": [
    "oversample = SMOTE(random_state=42)\n",
    "X_train_over,Y_train_over = oversample.fit_resample(X_train.astype(float),Y_train)"
   ]
  },
  {
   "cell_type": "code",
   "execution_count": 152,
   "metadata": {},
   "outputs": [
    {
     "data": {
      "text/plain": [
       "(158232, 1)"
      ]
     },
     "execution_count": 152,
     "metadata": {},
     "output_type": "execute_result"
    }
   ],
   "source": [
    "Y_train_over.shape"
   ]
  },
  {
   "cell_type": "code",
   "execution_count": 153,
   "metadata": {},
   "outputs": [
    {
     "data": {
      "text/plain": [
       "CI_Cat\n",
       "5         26372\n",
       "4         26372\n",
       "3         26372\n",
       "2         26372\n",
       "1         26372\n",
       "0         26372\n",
       "dtype: int64"
      ]
     },
     "execution_count": 153,
     "metadata": {},
     "output_type": "execute_result"
    }
   ],
   "source": [
    "Y_train_over.value_counts()"
   ]
  },
  {
   "cell_type": "code",
   "execution_count": 154,
   "metadata": {},
   "outputs": [
    {
     "data": {
      "image/png": "[encoded data removed]",
      "text/plain": [
       "<Figure size 432x288 with 1 Axes>"
      ]
     },
     "metadata": {
      "needs_background": "light"
     },
     "output_type": "display_data"
    }
   ],
   "source": [
    "sns.countplot(Y_train_over.CI_Cat)\n",
    "plt.title('After OverSampling')\n",
    "plt.show()"
   ]
  },
  {
   "cell_type": "markdown",
   "metadata": {},
   "source": [
    "## Model Initialization and Training"
   ]
  },
  {
   "cell_type": "markdown",
   "metadata": {},
   "source": [
    "### RandomForest Classifier"
   ]
  },
  {
   "cell_type": "code",
   "execution_count": 155,
   "metadata": {
    "scrolled": true
   },
   "outputs": [
    {
     "name": "stdout",
     "output_type": "stream",
     "text": [
      "%% The score for RandomForestClassifier(random_state=100) is 0.7856928292494528 %%\n",
      "\n",
      "Confusion Matrix :\n",
      "----------------\n",
      "\n",
      "[[4921    0    0    0    0 1718]\n",
      " [   0  702    0    1    0    0]\n",
      " [   0    0  180    0    0    0]\n",
      " [   0    0    0   69    0    0]\n",
      " [   0    0    1    0  186    0]\n",
      " [ 320    0    0    0    0 1224]]\n",
      "\n",
      "Classification Report:\n",
      "---------------------\n",
      "\n",
      "\n",
      "              precision    recall  f1-score   support\n",
      "\n",
      "           0       0.94      0.74      0.83      6639\n",
      "           1       1.00      1.00      1.00       703\n",
      "           2       0.99      1.00      1.00       180\n",
      "           3       0.99      1.00      0.99        69\n",
      "           4       1.00      0.99      1.00       187\n",
      "           5       0.42      0.79      0.55      1544\n",
      "\n",
      "    accuracy                           0.78      9322\n",
      "   macro avg       0.89      0.92      0.89      9322\n",
      "weighted avg       0.86      0.78      0.80      9322\n",
      "\n"
     ]
    }
   ],
   "source": [
    "model_rfc = RandomForestClassifier(random_state=100).fit(X_train_over,Y_train_over)\n",
    "Y_rfc = model_rfc.predict(X_test)\n",
    "\n",
    "print('%% The score for {} is {} %%'.format(model_rfc,model_rfc.score(X,Y)))\n",
    "\n",
    "print('\\nConfusion Matrix :')\n",
    "print('----------------\\n')\n",
    "print(confusion_matrix(Y_test,Y_rfc))\n",
    "print('\\nClassification Report:')\n",
    "print('---------------------\\n\\n')\n",
    "print(classification_report(Y_test,Y_rfc))"
   ]
  },
  {
   "cell_type": "code",
   "execution_count": 156,
   "metadata": {},
   "outputs": [
    {
     "data": {
      "text/plain": [
       "0.7811628405921476"
      ]
     },
     "execution_count": 156,
     "metadata": {},
     "output_type": "execute_result"
    }
   ],
   "source": [
    "from sklearn.metrics import accuracy_score\n",
    "accuracy_score(Y_test,Y_rfc)"
   ]
  },
  {
   "cell_type": "markdown",
   "metadata": {},
   "source": [
    "### XGBClassifier"
   ]
  },
  {
   "cell_type": "code",
   "execution_count": 32,
   "metadata": {},
   "outputs": [
    {
     "name": "stdout",
     "output_type": "stream",
     "text": [
      "\n",
      "Confusion Matrix :\n",
      "----------------\n",
      "\n",
      "[[4921    0    0    0    0 1718]\n",
      " [   0  702    0    1    0    0]\n",
      " [   0    0  180    0    0    0]\n",
      " [   0    0    0   69    0    0]\n",
      " [   0    0    1    0  186    0]\n",
      " [ 320    0    0    0    0 1224]]\n",
      "\n",
      "Classification Report:\n",
      "---------------------\n",
      "\n",
      "\n",
      "              precision    recall  f1-score   support\n",
      "\n",
      "           0       0.94      0.74      0.83      6639\n",
      "           1       1.00      1.00      1.00       703\n",
      "           2       0.99      1.00      1.00       180\n",
      "           3       0.99      1.00      0.99        69\n",
      "           4       1.00      0.99      1.00       187\n",
      "           5       0.42      0.79      0.55      1544\n",
      "\n",
      "    accuracy                           0.78      9322\n",
      "   macro avg       0.89      0.92      0.89      9322\n",
      "weighted avg       0.86      0.78      0.80      9322\n",
      "\n"
     ]
    }
   ],
   "source": [
    "model_xgb = XGBClassifier(verbosity=0,random_state=100).fit(X_train_over,Y_train_over)\n",
    "Y_xgb = model_xgb.predict(X_test)\n",
    "\n",
    "#print('%% The score for {} is {} %%'.format(model_xgb,model_xgb.score(X,Y)))\n",
    "\n",
    "print('\\nConfusion Matrix :')\n",
    "print('----------------\\n')\n",
    "print(confusion_matrix(Y_test,Y_xgb))\n",
    "print('\\nClassification Report:')\n",
    "print('---------------------\\n\\n')\n",
    "print(classification_report(Y_test,Y_xgb))"
   ]
  },
  {
   "cell_type": "markdown",
   "metadata": {},
   "source": [
    "### KNN"
   ]
  },
  {
   "cell_type": "code",
   "execution_count": 33,
   "metadata": {},
   "outputs": [
    {
     "name": "stdout",
     "output_type": "stream",
     "text": [
      "\n",
      "Confusion Matrix :\n",
      "----------------\n",
      "\n",
      " [[4909    0    0    0    0 1730]\n",
      " [   0  702    0    1    0    0]\n",
      " [   0    0  179    0    1    0]\n",
      " [   0    0    0   69    0    0]\n",
      " [   0    0    2    0  185    0]\n",
      " [ 314    0    0    0    0 1230]]\n",
      "\n",
      "Classification Report:\n",
      "---------------------\n",
      "\n",
      "               precision    recall  f1-score   support\n",
      "\n",
      "           0       0.94      0.74      0.83      6639\n",
      "           1       1.00      1.00      1.00       703\n",
      "           2       0.99      0.99      0.99       180\n",
      "           3       0.99      1.00      0.99        69\n",
      "           4       0.99      0.99      0.99       187\n",
      "           5       0.42      0.80      0.55      1544\n",
      "\n",
      "    accuracy                           0.78      9322\n",
      "   macro avg       0.89      0.92      0.89      9322\n",
      "weighted avg       0.86      0.78      0.80      9322\n",
      "\n"
     ]
    }
   ],
   "source": [
    "model_knn = KNeighborsClassifier().fit(X_train_over,Y_train_over)\n",
    "Y_knn = model_knn.predict(X_test)\n",
    "\n",
    "#print('%% The score of {} is {} %%'.format(model_knn,model_knn.score(X,Y)))\n",
    "\n",
    "print('\\nConfusion Matrix :\\n----------------\\n\\n',confusion_matrix(Y_test,Y_knn))\n",
    "print('\\nClassification Report:\\n---------------------\\n\\n',classification_report(Y_test,Y_knn))"
   ]
  },
  {
   "cell_type": "markdown",
   "metadata": {},
   "source": [
    "## Model Selection using CV"
   ]
  },
  {
   "cell_type": "markdown",
   "metadata": {},
   "source": [
    "* RandomForest Classifier\n",
    "* XGBoost classifier\n",
    "* KNN"
   ]
  },
  {
   "cell_type": "code",
   "execution_count": 34,
   "metadata": {},
   "outputs": [],
   "source": [
    "from sklearn.model_selection import cross_val_score"
   ]
  },
  {
   "cell_type": "code",
   "execution_count": 35,
   "metadata": {},
   "outputs": [],
   "source": [
    "####===================== Random Forest======================#####\n",
    "\n",
    "RF_3 = RandomForestClassifier(random_state=100)\n",
    "RF_3.fit(X,Y)\n",
    "\n",
    "RFC3_acc = cross_val_score(estimator=RF_3,X=X,y=Y,cv= 8,scoring='accuracy')\n",
    "rfc=[RFC3_acc.mean(), RFC3_acc.std()]\n",
    "\n",
    "#####========================== XGBoost =============================####\n",
    "\n",
    "XGB_3 = XGBClassifier()\n",
    "XGB_3.fit(X,Y)\n",
    "\n",
    "XGB3_acc = cross_val_score(estimator= XGB_3,X= X,y=Y,cv=8,scoring='accuracy')\n",
    "xgb = [XGB3_acc.mean(), XGB3_acc.std()]\n",
    "\n",
    "#####=================================KNN=============================####\n",
    "\n",
    "KNC_3 = KNeighborsClassifier()\n",
    "KNC_3.fit(X,Y)\n",
    "\n",
    "KNC3_acc = cross_val_score(estimator=KNC_3,X=X,y=Y ,cv=8,scoring='accuracy')\n",
    "kn=[KNC3_acc.mean(), KNC3_acc.std()]\n",
    "\n",
    "####===========Summary of all the mean and standard deviations of the accuracies============######\n",
    "\n",
    "cvs = {'model':['Random','XGB','KNN'],\n",
    "      'Accuracy mean':[(rfc[0]),(xgb[0]),(kn[0])],\n",
    "      'Accuracy std':[rfc[1],xgb[1],kn[1]]\n",
    "      }\n",
    "\n",
    "pd.DataFrame(cvs)"
   ]
  },
  {
   "cell_type": "markdown",
   "metadata": {},
   "source": [
    "## Selected model "
   ]
  },
  {
   "cell_type": "markdown",
   "metadata": {},
   "source": [
    "* The basic model of RandomForestClassifier yielded better score.\n",
    "* For higher accuracy hypertuning of RFC has to be done"
   ]
  },
  {
   "cell_type": "markdown",
   "metadata": {},
   "source": [
    "### Hypertune XGBClassifier"
   ]
  },
  {
   "cell_type": "code",
   "execution_count": 181,
   "metadata": {},
   "outputs": [],
   "source": [
    "from sklearn.model_selection import GridSearchCV, RandomizedSearchCV\n",
    "\n",
    "\n",
    "def evaluate(model, test_features, test_labels):\n",
    "    '''\n",
    "    Returns the accuracy of the model.\n",
    "    Also calculates the average error of the estimator model passed.\n",
    "    \n",
    "    '''\n",
    "    predictions = model.predict(test_features)\n",
    "    errors = abs(predictions-test_labels).astype(float)\n",
    "    accuracy = accuracy_score(test_labels,predictions)\n",
    "    mean_error = np.mean(errors)\n",
    "    print('=='*10,' Model Performance ','=='*10)\n",
    "    print('Average Error:{}'.format(mean_error))\n",
    "    print('Accuracy = {:0.4f}.'.format(accuracy))\n",
    "    \n",
    "    return accuracy\n",
    "\n",
    "\n",
    "\n",
    "def improvement(base,tuned):\n",
    "    '''\n",
    "    Returns the improvement in accuracy from different models\n",
    "    \n",
    "    '''\n",
    "    impr =  100 * ((tuned - base) / base)\n",
    "    return impr\n",
    "\n",
    "\n"
   ]
  },
  {
   "cell_type": "markdown",
   "metadata": {},
   "source": [
    "#### Randomized Search CV"
   ]
  },
  {
   "cell_type": "code",
   "execution_count": 162,
   "metadata": {},
   "outputs": [
    {
     "name": "stdout",
     "output_type": "stream",
     "text": [
      "Fitting 5 folds for each of 100 candidates, totalling 500 fits\n",
      "The best parameters from randomsearch : {'random_state': 410, 'n_estimators': 80, 'min_samples_split': 9, 'max_features': None, 'max_depth': 14}\n"
     ]
    },
    {
     "data": {
      "text/plain": [
       "RandomForestClassifier()"
      ]
     },
     "execution_count": 162,
     "metadata": {},
     "output_type": "execute_result"
    }
   ],
   "source": [
    "n_estimators = [ x for x in np.arange(50,100,10)]\n",
    "max_depth = [x for x in np.arange(2,15,2)]\n",
    "min_samples_split = [x for x in np.arange(1,10,1)]\n",
    "max_features = ['auto','log2',None]\n",
    "random_state=[x for x in np.arange(0,500,10)]\n",
    "\n",
    "param_random = {\n",
    "    'n_estimators':n_estimators,\n",
    "    'max_depth':max_depth,\n",
    "    'min_samples_split':min_samples_split,\n",
    "    'max_features':max_features,\n",
    "    'random_state':random_state\n",
    "}\n",
    "\n",
    "# RandomSearch Training\n",
    "\n",
    "RFC1 = RandomForestClassifier()\n",
    "\n",
    "# Random search of parameters\n",
    "\n",
    "RFC_random = RandomizedSearchCV(RFC1, param_random , n_iter=100, cv=5, verbose=2, random_state=42, n_jobs=-1,scoring='accuracy',return_train_score=True)\n",
    "RFC_random.fit(X_train_over,Y_train_over)\n",
    "print('The best parameters from randomsearch :',RFC_random.best_params_)\n",
    "\n",
    "# Initialising and fitting the base model\n",
    "\n",
    "base_model = RandomForestClassifier()\n",
    "base_model.fit(X_train_over, Y_train_over)"
   ]
  },
  {
   "cell_type": "code",
   "execution_count": 183,
   "metadata": {},
   "outputs": [
    {
     "name": "stdout",
     "output_type": "stream",
     "text": [
      "====================  Model Performance  ====================\n",
      "Average Error:2.0714659215561704\n",
      "Accuracy = 0.7812.\n",
      "====================  Model Performance  ====================\n",
      "Average Error:2.0714659215561704\n",
      "Accuracy = 0.7812.\n",
      "Improvement of 0.00% in accuracy using Randomized Search for RFC from base model.\n"
     ]
    }
   ],
   "source": [
    "\n",
    "base_accuracy = evaluate(base_model,X_test, Y_test.values)\n",
    "\n",
    "# Evaluate the best found estimator\n",
    "\n",
    "best_random = RFC_random.best_estimator_\n",
    "random_accuracy = evaluate(best_random, X_test, Y_test.values)\n",
    "\n",
    "print('Improvement of {:0.2f}% in accuracy using Randomized Search for RFC from base model.'.format( improvement(base_accuracy,random_accuracy)))"
   ]
  },
  {
   "cell_type": "code",
   "execution_count": 185,
   "metadata": {},
   "outputs": [
    {
     "name": "stdout",
     "output_type": "stream",
     "text": [
      "Fitting 5 folds for each of 24 candidates, totalling 120 fits\n",
      "The best parameters from gridsearchcv :  {'max_depth': 16, 'max_features': None, 'min_samples_split': 10, 'n_estimators': 150, 'random_state': 40}\n",
      "====================  Model Performance  ====================\n",
      "Average Error:2.0714659215561704\n",
      "Accuracy = 0.7812.\n",
      "Improvement of 0.00% in accuracy using Grid search CV for RFC from base model.\n",
      "Improvement of 0.00% in accuracy from Randomized to Grid search CV for RFC.\n",
      "The best estimator :  RandomForestClassifier(max_depth=16, max_features=None, min_samples_split=10,\n",
      "                       n_estimators=150, random_state=40)\n"
     ]
    }
   ],
   "source": [
    "# Create the parameter grid based on the results of random search \n",
    "\n",
    "param_grids = {\n",
    "    'n_estimators':[50,150],\n",
    "    'max_depth': [10,12,16],\n",
    "    'min_samples_split':[5,6,7,10],\n",
    "    'random_state':[40],\n",
    "    'max_features':[None]\n",
    "}\n",
    "\n",
    "\n",
    "# Create a based model\n",
    "RFC2 = RandomForestClassifier()\n",
    "\n",
    "# Instantiate the grid search model\n",
    "grid_search = GridSearchCV(estimator = RFC2, param_grid = param_grids,cv = 5, n_jobs = -1, verbose = 2,scoring= 'accuracy',return_train_score=True)\n",
    "\n",
    "# Fit the grid search to the data\n",
    "grid_search.fit(X_train_over, Y_train_over)\n",
    "\n",
    "\n",
    "\n",
    "\n",
    "\n",
    "print('The best parameters from gridsearchcv : ',grid_search.best_params_)\n",
    "\n",
    "best_grid = grid_search.best_estimator_\n",
    "grid_accuracy = evaluate(best_grid, X_test, Y_test.values)\n",
    "\n",
    "print('Improvement of {:0.2f}% in accuracy using Grid search CV for RFC from base model.'.format( improvement(base_accuracy,grid_accuracy)))\n",
    "\n",
    "print('Improvement of {:0.2f}% in accuracy from Randomized to Grid search CV for RFC.'.format( improvement(random_accuracy,grid_accuracy)))\n",
    "\n",
    "print('The best estimator : ',best_grid)\n",
    "\n",
    "\n",
    "\n"
   ]
  },
  {
   "cell_type": "markdown",
   "metadata": {},
   "source": [
    "## Final model for Prediction of Department"
   ]
  },
  {
   "cell_type": "code",
   "execution_count": null,
   "metadata": {},
   "outputs": [],
   "source": [
    "best_model3= model_knn\n",
    "best_model3.fit(X_train_over,Y_train_over)\n",
    "Y_predict = best_model3.predict(X_test)\n",
    "\n",
    "print(classification_report(Y_test,Y_predict))"
   ]
  },
  {
   "cell_type": "code",
   "execution_count": null,
   "metadata": {},
   "outputs": [],
   "source": []
  }
 ],
 "metadata": {
  "kernelspec": {
   "display_name": "Python 3",
   "language": "python",
   "name": "python3"
  },
  "language_info": {
   "codemirror_mode": {
    "name": "ipython",
    "version": 3
   },
   "file_extension": ".py",
   "mimetype": "text/x-python",
   "name": "python",
   "nbconvert_exporter": "python",
   "pygments_lexer": "ipython3",
   "version": "3.8.5"
  }
 },
 "nbformat": 4,
 "nbformat_minor": 4
}
